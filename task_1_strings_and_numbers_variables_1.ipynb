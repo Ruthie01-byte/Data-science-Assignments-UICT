{
  "nbformat": 4,
  "nbformat_minor": 0,
  "metadata": {
    "colab": {
      "provenance": [],
      "include_colab_link": true
    },
    "kernelspec": {
      "name": "python3",
      "display_name": "Python 3"
    },
    "language_info": {
      "name": "python"
    }
  },
  "cells": [
    {
      "cell_type": "markdown",
      "metadata": {
        "id": "view-in-github",
        "colab_type": "text"
      },
      "source": [
        "<a href=\"https://colab.research.google.com/github/Ruthie01-byte/Data-science-Assignments-UICT/blob/main/task_1_strings_and_numbers_variables_1.ipynb\" target=\"_parent\"><img src=\"https://colab.research.google.com/assets/colab-badge.svg\" alt=\"Open In Colab\"/></a>"
      ]
    },
    {
      "cell_type": "markdown",
      "source": [
        "<h1><b>Python Language Basics</b></h1>"
      ],
      "metadata": {
        "id": "4LIdEuxMT3WO"
      }
    },
    {
      "cell_type": "markdown",
      "source": [
        "<h2><b>Literal Constants</b></h2></br>\n",
        "<h4>A literal Constant is like a number i.e., 1, 4, 0.34, 7.3 or like a string like \"You are welcome\". The value of a literal constant represents itself only.</h4>\n"
      ],
      "metadata": {
        "id": "YEVsj682WekV"
      }
    },
    {
      "cell_type": "markdown",
      "source": [
        "<b>Print Function</b></br>\n",
        "It is used to display output in the console.\n",
        "\n",
        "<b>Comment</b></br>\n",
        "Allows you to comment out a line of code in the code cell without executing it. Using #\n",
        "or\n",
        "Comment out a block of text in a code cell using \" \" \"  or ' ' '\n",
        "\n"
      ],
      "metadata": {
        "id": "I_VF2HAmftox"
      }
    },
    {
      "cell_type": "code",
      "source": [
        "#Use the Print Function to return Hello World!\n",
        "print('Hello World')\n"
      ],
      "metadata": {
        "id": "jBCA8_t4fShR",
        "colab": {
          "base_uri": "https://localhost:8080/"
        },
        "outputId": "06ba9d98-3aa1-48dc-cb28-a50f26c9f992"
      },
      "execution_count": null,
      "outputs": [
        {
          "output_type": "stream",
          "name": "stdout",
          "text": [
            "Hello World\n"
          ]
        }
      ]
    },
    {
      "cell_type": "code",
      "source": [
        "#Prompt a user to enter their name and print\n",
        "name = input('What is Your First name * ')\n",
        "print(name)"
      ],
      "metadata": {
        "id": "0rrxceUqfsf-",
        "colab": {
          "base_uri": "https://localhost:8080/"
        },
        "outputId": "7a95bea9-6793-4a42-e1f6-27fc2726eaca"
      },
      "execution_count": null,
      "outputs": [
        {
          "output_type": "stream",
          "name": "stdout",
          "text": [
            "What is Your First name * Flavia\n",
            "Flavia\n"
          ]
        }
      ]
    },
    {
      "cell_type": "markdown",
      "source": [
        "<b>Numbers Variables</b></br>\n",
        "<i>Numbers can be integers or Floats.They can be stored in variables<i>\n"
      ],
      "metadata": {
        "id": "jbnqANLfUlvd"
      }
    },
    {
      "cell_type": "code",
      "source": [
        "#Declare an integer and float to return its output using the print statement\n",
        "a = 25\n",
        "print(a)\n",
        "\n",
        "b = 0.34\n",
        "print(b)\n",
        "\n",
        "print(a,b)"
      ],
      "metadata": {
        "id": "WGtu37ylbKXN",
        "colab": {
          "base_uri": "https://localhost:8080/"
        },
        "outputId": "3c40efeb-addd-4fe9-a1b1-70d9907a317a"
      },
      "execution_count": null,
      "outputs": [
        {
          "output_type": "stream",
          "name": "stdout",
          "text": [
            "25\n",
            "0.34\n",
            "25 0.34\n"
          ]
        }
      ]
    },
    {
      "cell_type": "markdown",
      "source": [
        "Declare multiple variables and perform math operations on the values"
      ],
      "metadata": {
        "id": "xm-4bicc4OqK"
      }
    },
    {
      "cell_type": "code",
      "source": [
        "#Return the Addition\n",
        "c = 42\n",
        "d = 15\n",
        "\n",
        "print(c + d)"
      ],
      "metadata": {
        "id": "xYywxukgikTU",
        "colab": {
          "base_uri": "https://localhost:8080/"
        },
        "outputId": "977439ac-37ba-4dec-8183-78b336699054"
      },
      "execution_count": null,
      "outputs": [
        {
          "output_type": "stream",
          "name": "stdout",
          "text": [
            "57\n"
          ]
        }
      ]
    },
    {
      "cell_type": "code",
      "source": [
        "g = c + d\n",
        "print(g)"
      ],
      "metadata": {
        "colab": {
          "base_uri": "https://localhost:8080/"
        },
        "id": "N4HxhCYKvkMy",
        "outputId": "727576bd-3b10-4498-809d-5dba65b19e73"
      },
      "execution_count": null,
      "outputs": [
        {
          "output_type": "stream",
          "name": "stdout",
          "text": [
            "57\n"
          ]
        }
      ]
    },
    {
      "cell_type": "code",
      "source": [
        "print(a)"
      ],
      "metadata": {
        "colab": {
          "base_uri": "https://localhost:8080/"
        },
        "id": "4i9z18vYyLkg",
        "outputId": "6545a5d6-4276-4bf3-869c-701fb342e8b3"
      },
      "execution_count": null,
      "outputs": [
        {
          "output_type": "stream",
          "name": "stdout",
          "text": [
            "25\n"
          ]
        }
      ]
    },
    {
      "cell_type": "code",
      "source": [
        "#Division /\n"
      ],
      "metadata": {
        "id": "E_UR2t-eiwAJ"
      },
      "execution_count": null,
      "outputs": []
    },
    {
      "cell_type": "code",
      "source": [
        "#Multiplication\n"
      ],
      "metadata": {
        "id": "sMRjBTB1i4_j"
      },
      "execution_count": null,
      "outputs": []
    },
    {
      "cell_type": "code",
      "source": [
        "#Write a program, that prompts a user to input two numbers and find the difference of the 2 numbers.\n"
      ],
      "metadata": {
        "id": "aWeZNy78jFKT"
      },
      "execution_count": null,
      "outputs": []
    },
    {
      "cell_type": "code",
      "source": [
        "#Adding a Variable and a Literal Constant\n"
      ],
      "metadata": {
        "id": "sMavVhv-7lWW"
      },
      "execution_count": null,
      "outputs": []
    },
    {
      "cell_type": "markdown",
      "source": [
        "<b>Assignment 1 </b>\n",
        "1. Write a program that prompts a user to enter the radius of a circle, calculates the area and circumference, and then prints both results in a user-friendly format."
      ],
      "metadata": {
        "id": "1cs3_3dI2HMB"
      }
    },
    {
      "cell_type": "code",
      "source": [
        "#prompt user to enter area and circumference of a circle\n",
        "\n",
        "radius = int(input(\"enter the radius of the circle \"))\n",
        "area =  (22/7) * radius * radius\n",
        "circumference = 2 * (22/7) *radius\n",
        "print(\"the area of the circle is\" , area)\n",
        "print(\"the circumference of the circle is\" , circumference)"
      ],
      "metadata": {
        "colab": {
          "base_uri": "https://localhost:8080/"
        },
        "id": "b594jh1XRWnQ",
        "outputId": "47c4a9c0-5a98-4b55-e93d-ebff37b4a36f"
      },
      "execution_count": 5,
      "outputs": [
        {
          "output_type": "stream",
          "name": "stdout",
          "text": [
            "enter the radius of the circle 42\n",
            "the area of the circle is 5544.0\n",
            "the circumference of the circle is 264.0\n"
          ]
        }
      ]
    },
    {
      "cell_type": "markdown",
      "source": [
        "<b>String Variables</b></br>\n",
        "<i>This is basically words or characters, and a string can be stored in a Variable. A string is immutable, meaning it cannot be changed<i>"
      ],
      "metadata": {
        "id": "hXDVicQBkl4L"
      }
    },
    {
      "cell_type": "code",
      "source": [
        "#Declare a variable to return your favorite color\n",
        "student = 'Nixon'\n",
        "print(student)\n",
        "Students = 'Nixon is enrolled'\n",
        "print(Students)"
      ],
      "metadata": {
        "id": "cBv-U_5wkhsM",
        "colab": {
          "base_uri": "https://localhost:8080/"
        },
        "outputId": "fbee20b6-46af-4efd-8b7a-27b429245b55"
      },
      "execution_count": null,
      "outputs": [
        {
          "output_type": "stream",
          "name": "stdout",
          "text": [
            "Nixon\n",
            "Nixon is enrolled\n"
          ]
        }
      ]
    },
    {
      "cell_type": "code",
      "source": [
        "#String functions, uppercase, lowercase, capitalize\n",
        "print(student.upper())"
      ],
      "metadata": {
        "id": "8jIOfePncMP0",
        "colab": {
          "base_uri": "https://localhost:8080/"
        },
        "outputId": "3cbe2b32-361a-4634-db15-ae38872d607d"
      },
      "execution_count": null,
      "outputs": [
        {
          "output_type": "stream",
          "name": "stdout",
          "text": [
            "NIXON\n"
          ]
        }
      ]
    },
    {
      "cell_type": "code",
      "source": [
        "#Format Strings\n",
        "color = 'purple'\n",
        "car = 'subaru'\n",
        "print(f'Lujja wants a {color} {car}')\n"
      ],
      "metadata": {
        "id": "NUB3vjcaox2s",
        "colab": {
          "base_uri": "https://localhost:8080/"
        },
        "outputId": "6042fc39-54fe-44b4-8d11-f81096cf4f5b"
      },
      "execution_count": null,
      "outputs": [
        {
          "output_type": "stream",
          "name": "stdout",
          "text": [
            "Lujja wants a purple subaru\n"
          ]
        }
      ]
    },
    {
      "cell_type": "code",
      "source": [
        "print (  'Jamil was offered a ' + 'color' + '-'+ 'car' + ' and accepted' )"
      ],
      "metadata": {
        "colab": {
          "base_uri": "https://localhost:8080/"
        },
        "id": "6EXE3Ark89r2",
        "outputId": "c59b6c08-c66c-4e5c-dd08-3236e3c9bea8"
      },
      "execution_count": null,
      "outputs": [
        {
          "output_type": "stream",
          "name": "stdout",
          "text": [
            "Jamil was offered a color-car and accepted\n"
          ]
        }
      ]
    },
    {
      "cell_type": "code",
      "source": [
        "#Combine Strings\n",
        "a = 3\n",
        "b = \"cows\"\n",
        "print(str(a) + b)\n"
      ],
      "metadata": {
        "id": "44Eg3GDgsTVz",
        "colab": {
          "base_uri": "https://localhost:8080/"
        },
        "outputId": "8b039c4f-32a7-4c4c-c66b-817a2f936cef"
      },
      "execution_count": 6,
      "outputs": [
        {
          "output_type": "stream",
          "name": "stdout",
          "text": [
            "3cows\n"
          ]
        }
      ]
    },
    {
      "cell_type": "code",
      "source": [
        "#Declare two variables FirstName and LastName, capitaize them, to return a full name\n",
        "firstname = input(\"what is your first name?\")\n",
        "lastname = input(\"what is your last name?\")\n",
        "print(firstname.upper() + lastname.upper())\n",
        "\n",
        "\n"
      ],
      "metadata": {
        "id": "i-QOqD9Mukqb",
        "colab": {
          "base_uri": "https://localhost:8080/"
        },
        "outputId": "5866dd76-4f32-4b2c-e1e9-e08860c18250"
      },
      "execution_count": 9,
      "outputs": [
        {
          "output_type": "stream",
          "name": "stdout",
          "text": [
            "what is your first name? Ruth\n",
            "what is your last name? Manano\n",
            " RUTH MANANO\n"
          ]
        }
      ]
    },
    {
      "cell_type": "markdown",
      "source": [
        "<b>Assignment 2</b>\n",
        "1. Create a program that asks a user for their first name and last name. Then, create a new variable called full_name by combining the first and last names in uppercase with a space in between. Finally, print a message that says: \"Hello, [Full Name]! Your name has [Number] characters.\""
      ],
      "metadata": {
        "id": "jdL80fdk2bks"
      }
    },
    {
      "cell_type": "code",
      "source": [
        "#program that allows user enter first and last name\n",
        "\n",
        "first_name = input(\"what is your first name? \")\n",
        "last_name = input(\"what is your last name? \")\n",
        "full_name =(first_name + \" \" + last_name).upper()\n",
        "print(f\"Hello, {full_name}! Your name has {len(full_name)} characters.\")"
      ],
      "metadata": {
        "colab": {
          "base_uri": "https://localhost:8080/"
        },
        "id": "4txRCm_8-RdV",
        "outputId": "bfc7846b-83ad-400e-daf9-255fbc792341"
      },
      "execution_count": null,
      "outputs": [
        {
          "output_type": "stream",
          "name": "stdout",
          "text": [
            "what is your first name?  Ruth\n",
            "what is your last name? Manano \n",
            "Hello,  RUTH MANANO ! Your name has 13 characters.\n"
          ]
        }
      ]
    },
    {
      "cell_type": "markdown",
      "source": [
        "<b>Combining strings with numbers</b></br>\n",
        "You can return an output by using + to add numbers or to concatenate multiple strings.\n",
        "The print function won't know what to do if you pass a number and a string, so it would normally pass an error.\n",
        "The number, has to be converted to a string using str(variable)"
      ],
      "metadata": {
        "id": "MepRdvrI0mMX"
      }
    },
    {
      "cell_type": "code",
      "source": [
        "#Converting a number to a string"
      ],
      "metadata": {
        "id": "W5uLkAn1bJ0K"
      },
      "execution_count": null,
      "outputs": []
    },
    {
      "cell_type": "markdown",
      "source": [
        "<b>Assignment 3</b>\n",
        "1. Create a program that asks a user for their name and age. Then, calculate the year they were born and print a message like: \"Hi [Name], you are [Age] years old, so you were born in [Year].\""
      ],
      "metadata": {
        "id": "U1u1oaDK2qZk"
      }
    },
    {
      "cell_type": "code",
      "source": [
        "#program to compute name, age and year of birth\n",
        "name = input(\"what is your name?\")\n",
        "age = int(input(\"what is your age? \"))\n",
        "year = 2025 - age\n",
        "print(f\"Hi, {name}, you are {age} years old, so you were born in {year} \")"
      ],
      "metadata": {
        "colab": {
          "base_uri": "https://localhost:8080/"
        },
        "id": "oE1VEGFJUg0I",
        "outputId": "5087ba29-af27-41af-a046-90a3357a21ad"
      },
      "execution_count": 12,
      "outputs": [
        {
          "output_type": "stream",
          "name": "stdout",
          "text": [
            "what is your name? Manano Ruth\n",
            "what is your age?  32\n",
            "Hi,  Manano Ruth, you are 32 years old, so you were born in 1993 \n"
          ]
        }
      ]
    }
  ]
}