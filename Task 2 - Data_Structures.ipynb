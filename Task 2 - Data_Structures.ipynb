{
  "nbformat": 4,
  "nbformat_minor": 0,
  "metadata": {
    "colab": {
      "provenance": [],
      "include_colab_link": true
    },
    "kernelspec": {
      "name": "python3",
      "display_name": "Python 3"
    },
    "language_info": {
      "name": "python"
    }
  },
  "cells": [
    {
      "cell_type": "markdown",
      "metadata": {
        "id": "view-in-github",
        "colab_type": "text"
      },
      "source": [
        "<a href=\"https://colab.research.google.com/github/Ruthie01-byte/Data-science-Assignments-UICT/blob/main/Task%202%20-%20Data_Structures.ipynb\" target=\"_parent\"><img src=\"https://colab.research.google.com/assets/colab-badge.svg\" alt=\"Open In Colab\"/></a>"
      ]
    },
    {
      "cell_type": "markdown",
      "source": [
        "<h1><b>Data Structures</b></h1></br>\n",
        "<h2><i>These are structures that store a collection of related data i.e., lists, tuple, dictionary and set.<ih2></i></br>\n",
        "They are used to organise and store data so that so we can easily maninulate it. (Basically in handling data, processing and analyzing it to get meaningful insights of it)\n"
      ],
      "metadata": {
        "id": "O2lBGQGJUaYD"
      }
    },
    {
      "cell_type": "markdown",
      "source": [
        "<b>List</b></br>\n",
        "This is a mutable data structure that holds an ordered collection of items. It should be enclosed in square brackets [], with commas separating each items. We can add, remove or even search for items in a list.Index based"
      ],
      "metadata": {
        "id": "O1UX4OXlU8Fi"
      }
    },
    {
      "cell_type": "markdown",
      "source": [
        "Starting"
      ],
      "metadata": {
        "id": "sCCOFAHhBQIK"
      }
    },
    {
      "cell_type": "code",
      "source": [
        " # Length of List\n",
        "cars = ['benz', 'BMW','subaru','ist']\n",
        "print(cars)\n",
        "print(len(cars))"
      ],
      "metadata": {
        "id": "sw3q5wU6V81o",
        "colab": {
          "base_uri": "https://localhost:8080/"
        },
        "outputId": "901238f8-6926-47c5-e788-d0f122a983a0"
      },
      "execution_count": null,
      "outputs": [
        {
          "output_type": "stream",
          "name": "stdout",
          "text": [
            "['benz', 'BMW', 'subaru', 'ist']\n",
            "4\n"
          ]
        }
      ]
    },
    {
      "cell_type": "code",
      "source": [
        "#Append\n",
        "cars.append('toyota')\n",
        "print(cars)"
      ],
      "metadata": {
        "id": "3TA68ZTomjbf",
        "colab": {
          "base_uri": "https://localhost:8080/"
        },
        "outputId": "9d86944e-7c49-4de0-a726-9e94ea8f9490"
      },
      "execution_count": null,
      "outputs": [
        {
          "output_type": "stream",
          "name": "stdout",
          "text": [
            "['benz', 'BMW', 'subaru', 'ist', 'toyota']\n"
          ]
        }
      ]
    },
    {
      "cell_type": "code",
      "source": [
        "#Sorting: Ascending Order\n",
        "cars.sort()\n",
        "print(cars)"
      ],
      "metadata": {
        "id": "p8dKQMLtnoCa",
        "colab": {
          "base_uri": "https://localhost:8080/"
        },
        "outputId": "2ff5f8c9-23b7-42f4-a812-ec45e669b3b3"
      },
      "execution_count": null,
      "outputs": [
        {
          "output_type": "stream",
          "name": "stdout",
          "text": [
            "['BMW', 'benz', 'ist', 'subaru', 'toyota']\n"
          ]
        }
      ]
    },
    {
      "cell_type": "code",
      "source": [
        "#Indexing\n",
        "print(cars[4])"
      ],
      "metadata": {
        "id": "yEl3ZjQHnxab",
        "colab": {
          "base_uri": "https://localhost:8080/"
        },
        "outputId": "2c6f412e-4c02-40bc-846f-a791c17cfd56"
      },
      "execution_count": null,
      "outputs": [
        {
          "output_type": "stream",
          "name": "stdout",
          "text": [
            "toyota\n"
          ]
        }
      ]
    },
    {
      "cell_type": "code",
      "source": [
        "#Removing\n",
        "cars.remove('ist')\n",
        "print(cars)"
      ],
      "metadata": {
        "id": "B4d-a0QyoXL4",
        "colab": {
          "base_uri": "https://localhost:8080/"
        },
        "outputId": "11bd9101-4fb3-4274-f428-c0e5d0a5e868"
      },
      "execution_count": null,
      "outputs": [
        {
          "output_type": "stream",
          "name": "stdout",
          "text": [
            "['BMW', 'benz', 'subaru', 'toyota']\n"
          ]
        }
      ]
    },
    {
      "cell_type": "code",
      "source": [
        "del cars[0]\n",
        "print(cars)"
      ],
      "metadata": {
        "colab": {
          "base_uri": "https://localhost:8080/"
        },
        "id": "N4Dy2lfLFEl9",
        "outputId": "95bb07a6-cead-4981-dd78-76a316996cfb"
      },
      "execution_count": null,
      "outputs": [
        {
          "output_type": "stream",
          "name": "stdout",
          "text": [
            "['benz', 'subaru', 'toyota']\n"
          ]
        }
      ]
    },
    {
      "cell_type": "code",
      "source": [
        "#Slicing: Returns a portion of the list through indexing\n",
        "\n"
      ],
      "metadata": {
        "id": "VyO4fBxxojen"
      },
      "execution_count": null,
      "outputs": []
    },
    {
      "cell_type": "code",
      "source": [
        "#Insert\n"
      ],
      "metadata": {
        "id": "vieHmA_jpBTe"
      },
      "execution_count": null,
      "outputs": []
    },
    {
      "cell_type": "code",
      "source": [
        "#Reverse: Descending\n"
      ],
      "metadata": {
        "id": "7vGxRBbCp-ha"
      },
      "execution_count": null,
      "outputs": []
    },
    {
      "cell_type": "markdown",
      "source": [
        "<b>Assignment 1</b>\n",
        "1. Create a list of your top 5 favorite movies. Then, replace the movie at index 2 with a new one. Finally, sort the list in alphabetical order and print the result.\n",
        "2. Given a list of numbers, [5, 15, 25, 35, 45], insert the number 20 at the correct position to maintain the sorted order. Then, remove the last item and print the modified list."
      ],
      "metadata": {
        "id": "uqzPiSV0zlmJ"
      }
    },
    {
      "cell_type": "code",
      "source": [
        "#list of my top 5 favourite movies\n",
        "my_movies =[ \"switched at birth\" , \"straw\" , \"woman in the back yard\" , \"war of the words\" , \"the interstellar\"]\n",
        "print(my_movies)\n"
      ],
      "metadata": {
        "colab": {
          "base_uri": "https://localhost:8080/"
        },
        "id": "8JzCoFmGWQjT",
        "outputId": "1947322c-bc09-4c03-acbb-4a3fe6cf045d"
      },
      "execution_count": 6,
      "outputs": [
        {
          "output_type": "stream",
          "name": "stdout",
          "text": [
            "['switched at birth', 'straw', 'woman in the back yard', 'war of the words', 'the interstellar']\n"
          ]
        }
      ]
    },
    {
      "cell_type": "code",
      "source": [
        "#replacing the movie at index 2\n",
        "my_movies . remove(\"straw\")\n",
        "print(my_movies)"
      ],
      "metadata": {
        "colab": {
          "base_uri": "https://localhost:8080/"
        },
        "id": "xvEDWQ4-XeRG",
        "outputId": "bf0a5540-ece7-4585-c019-21774bf3ce09"
      },
      "execution_count": 7,
      "outputs": [
        {
          "output_type": "stream",
          "name": "stdout",
          "text": [
            "['switched at birth', 'woman in the back yard', 'war of the words', 'the interstellar']\n"
          ]
        }
      ]
    },
    {
      "cell_type": "code",
      "source": [
        "#sorting the list in alphabetical order\n",
        "my_movies = sorted(my_movies)\n",
        "print(my_movies)"
      ],
      "metadata": {
        "colab": {
          "base_uri": "https://localhost:8080/"
        },
        "id": "7bGXLJVsX1K3",
        "outputId": "e8558f09-a473-47cf-8189-2cac415e048d"
      },
      "execution_count": 5,
      "outputs": [
        {
          "output_type": "stream",
          "name": "stdout",
          "text": [
            "['switched at birth', 'the interstellar', 'war of the words', 'woman in the back yard']\n"
          ]
        }
      ]
    },
    {
      "cell_type": "code",
      "source": [
        "#2 given a list of numbers, [5, 15, 25, 35, 45]\n",
        "numbers = [5, 15, 25, 35, 45]\n",
        "print(numbers)"
      ],
      "metadata": {
        "colab": {
          "base_uri": "https://localhost:8080/"
        },
        "id": "UKMVNnDaYMW-",
        "outputId": "a9651156-8ca2-49af-84ba-2943ceee2b48"
      },
      "execution_count": 8,
      "outputs": [
        {
          "output_type": "stream",
          "name": "stdout",
          "text": [
            "[5, 15, 25, 35, 45]\n"
          ]
        }
      ]
    },
    {
      "cell_type": "code",
      "source": [
        "#inserting the number 20 at the correct position to maintane the sorted order\n",
        "numbers.insert(2,20)\n",
        "print(numbers)"
      ],
      "metadata": {
        "colab": {
          "base_uri": "https://localhost:8080/"
        },
        "id": "cavBpm-nZhnw",
        "outputId": "bbba9262-f1a6-4882-8020-191c89f18315"
      },
      "execution_count": 9,
      "outputs": [
        {
          "output_type": "stream",
          "name": "stdout",
          "text": [
            "[5, 15, 20, 25, 35, 45]\n"
          ]
        }
      ]
    },
    {
      "cell_type": "code",
      "source": [
        "#removing the last item\n",
        "del numbers[5]\n",
        "print(numbers)\n"
      ],
      "metadata": {
        "colab": {
          "base_uri": "https://localhost:8080/"
        },
        "id": "vg2km_vfZgOE",
        "outputId": "27591461-6ce7-4b5d-b350-000f127c0b2b"
      },
      "execution_count": 10,
      "outputs": [
        {
          "output_type": "stream",
          "name": "stdout",
          "text": [
            "[5, 15, 20, 25, 35]\n"
          ]
        }
      ]
    },
    {
      "cell_type": "markdown",
      "source": [
        "<b>Tuples</b></br>\n",
        "These hold together multiple items. They are immutable so cannot be modified. They are separated by commas and enclosed in parentheses ()."
      ],
      "metadata": {
        "id": "ORMLkGown4EJ"
      }
    },
    {
      "cell_type": "code",
      "source": [
        "# indexing\n"
      ],
      "metadata": {
        "id": "cULCQvYKq3s8"
      },
      "execution_count": null,
      "outputs": []
    },
    {
      "cell_type": "code",
      "source": [
        "#Counting\n"
      ],
      "metadata": {
        "id": "BNKa_2DYrIjf"
      },
      "execution_count": null,
      "outputs": []
    },
    {
      "cell_type": "markdown",
      "source": [
        "<b>Assignment 2</b>\n",
        "1. You have a tuple ('pen', 'pencil', 'eraser'). Your friend wants to borrow the 'pencil' and you want to add a 'ruler' to your collection. Since tuples are immutable, how can you achieve this by creating a new tuple?\n",
        "\n",
        "2. You are given a tuple of student scores: (85, 92, 78, 85, 90, 85). First, find out how many times the score 85 appears. Then, find the index of the first occurrence of the score 92."
      ],
      "metadata": {
        "id": "W8mfr2uO0BRk"
      }
    },
    {
      "cell_type": "code",
      "source": [
        "#1 original turple\n",
        "stationary = (\"pen\", \"pencil\", \"eraser\")\n",
        "print (stationary)"
      ],
      "metadata": {
        "colab": {
          "base_uri": "https://localhost:8080/"
        },
        "id": "MbpCsVJ7bFet",
        "outputId": "a2e67863-9399-44bd-f508-f022b150eb39"
      },
      "execution_count": 11,
      "outputs": [
        {
          "output_type": "stream",
          "name": "stdout",
          "text": [
            "('pen', 'pencil', 'eraser')\n"
          ]
        }
      ]
    },
    {
      "cell_type": "code",
      "source": [
        "#for friend to borrow pencil and i add ruler to the collection, since tuples are immutable, i will first convert the tuple to a list\n",
        "stationary_list = list(stationary)\n",
        "stationary_list.remove(\"pencil\")\n",
        "stationary_list.append(\"ruler\")\n",
        "stationary = tuple(stationary_list)\n",
        "print(stationary)"
      ],
      "metadata": {
        "colab": {
          "base_uri": "https://localhost:8080/"
        },
        "id": "6dBzJSQ_baLL",
        "outputId": "25005f5e-8f9b-41f3-cebc-a822c7609873"
      },
      "execution_count": 12,
      "outputs": [
        {
          "output_type": "stream",
          "name": "stdout",
          "text": [
            "('pen', 'eraser', 'ruler')\n"
          ]
        }
      ]
    },
    {
      "cell_type": "code",
      "source": [
        "#remove pencil\n",
        "stationary = stationary[:1] + stationary[2:1]\n",
        "print(stationary)"
      ],
      "metadata": {
        "colab": {
          "base_uri": "https://localhost:8080/"
        },
        "id": "nfAh65GNcNee",
        "outputId": "4c2f1376-5b38-4576-d9af-06c2fe8779ff"
      },
      "execution_count": 13,
      "outputs": [
        {
          "output_type": "stream",
          "name": "stdout",
          "text": [
            "('pen',)\n"
          ]
        }
      ]
    },
    {
      "cell_type": "code",
      "source": [
        "#add ruler\n",
        "stationary = stationary + (\"ruler\",)\n",
        "print(stationary)"
      ],
      "metadata": {
        "colab": {
          "base_uri": "https://localhost:8080/"
        },
        "id": "7D0gdTihcyUC",
        "outputId": "1148cfa0-39d6-4e84-fff4-07ccb7a95aa2"
      },
      "execution_count": 15,
      "outputs": [
        {
          "output_type": "stream",
          "name": "stdout",
          "text": [
            "('pen', 'ruler')\n"
          ]
        }
      ]
    },
    {
      "cell_type": "code",
      "source": [
        "#convert result list back to tuple\n",
        "print(stationary_list)\n",
        "print(stationary_list)\n",
        "print(stationary_list)\n",
        "print(stationary)\n"
      ],
      "metadata": {
        "colab": {
          "base_uri": "https://localhost:8080/"
        },
        "id": "C7R6vCludEfH",
        "outputId": "ceed3993-56d6-4338-98a2-109bb5fe0750"
      },
      "execution_count": 16,
      "outputs": [
        {
          "output_type": "stream",
          "name": "stdout",
          "text": [
            "['pen', 'eraser', 'ruler']\n",
            "['pen', 'eraser', 'ruler']\n",
            "['pen', 'eraser', 'ruler']\n",
            "('pen', 'ruler')\n"
          ]
        }
      ]
    },
    {
      "cell_type": "markdown",
      "source": [
        "assignment 2\n",
        "number 2"
      ],
      "metadata": {
        "id": "TCBJrsRzd5wI"
      }
    },
    {
      "cell_type": "code",
      "source": [
        "#2 tuple of student scores\n",
        "student_scores = (85, 92, 78, 85, 90, 85)\n",
        "print(student_scores)"
      ],
      "metadata": {
        "colab": {
          "base_uri": "https://localhost:8080/"
        },
        "id": "9J1Nht-peCJp",
        "outputId": "d543e52d-6a28-4cb6-b094-628ed2a4515f"
      },
      "execution_count": 17,
      "outputs": [
        {
          "output_type": "stream",
          "name": "stdout",
          "text": [
            "(85, 92, 78, 85, 90, 85)\n"
          ]
        }
      ]
    },
    {
      "cell_type": "code",
      "source": [
        "#to find how many times the score 85 appears\n",
        "number_of_times_85_appears = student_scores.count(85)\n",
        "print(number_of_times_85_appears)\n",
        "print(f\"85 appears {number_of_times_85_appears} times\")"
      ],
      "metadata": {
        "colab": {
          "base_uri": "https://localhost:8080/"
        },
        "id": "FjfxbcBpeaND",
        "outputId": "6e85bc9e-8b43-4be5-8883-d4da1a7d56ce"
      },
      "execution_count": 20,
      "outputs": [
        {
          "output_type": "stream",
          "name": "stdout",
          "text": [
            "3\n",
            "85 appears 3 times\n"
          ]
        }
      ]
    },
    {
      "cell_type": "code",
      "source": [
        "#to find the index of the first occurence of the score 92\n"
      ],
      "metadata": {
        "id": "kq_EqBCpeZIQ"
      },
      "execution_count": null,
      "outputs": []
    },
    {
      "cell_type": "markdown",
      "source": [
        "<b>Sets</b></br>\n",
        "They are unordered, mutable collection of unique items.They are created by inserting items separated by commas, enclosed in curly brackets {}.\n",
        "\n",
        "<i>Empty curly brackets do not create an empty set, but rather a dictionary<i>"
      ],
      "metadata": {
        "id": "kfwrETVrr439"
      }
    },
    {
      "cell_type": "code",
      "source": [
        "#Adding elements\n"
      ],
      "metadata": {
        "id": "l_HiA-bfsnyC"
      },
      "execution_count": null,
      "outputs": []
    },
    {
      "cell_type": "code",
      "source": [
        "#Removing\n"
      ],
      "metadata": {
        "id": "Q2wIIOD3t67Y"
      },
      "execution_count": null,
      "outputs": []
    },
    {
      "cell_type": "code",
      "source": [
        "#Combining\n"
      ],
      "metadata": {
        "id": "8NXqqs3St_W0"
      },
      "execution_count": null,
      "outputs": []
    },
    {
      "cell_type": "code",
      "source": [
        "#Finding  intersection\n",
        "\n"
      ],
      "metadata": {
        "id": "kzfUFxtLuNjk"
      },
      "execution_count": null,
      "outputs": []
    },
    {
      "cell_type": "markdown",
      "source": [
        "<b>Assignment 3</b>\n",
        "1. Create a set of your favorite hobbies. Add a new hobby to the set. Then, create another set with a friend's hobbies. Find the hobbies that you both have in common and the hobbies that are unique to each of you.\n",
        "\n",
        "2. You have a set of numbers A = {1, 2, 3, 4, 5} and another set B = {4, 5, 6, 7, 8}. Find the union of both sets (all unique numbers from both sets) and the difference between set A and set B (numbers present in A but not in B).\n",
        "\n"
      ],
      "metadata": {
        "id": "ALefDL_6z4Lu"
      }
    },
    {
      "cell_type": "code",
      "source": [],
      "metadata": {
        "id": "kWMlXKygdvej"
      },
      "execution_count": null,
      "outputs": []
    },
    {
      "cell_type": "markdown",
      "source": [
        "<b>Dictionaries</b></br>\n",
        "They are mutable and unordered collection of key-value pairs. They associate a key (i.e., name) to a certain value (i.e., details)."
      ],
      "metadata": {
        "id": "nVuiQoRGufNf"
      }
    },
    {
      "cell_type": "code",
      "source": [],
      "metadata": {
        "id": "hPWwJf_NvZsd"
      },
      "execution_count": null,
      "outputs": []
    },
    {
      "cell_type": "code",
      "source": [
        "#retrieve value by key\n",
        "\n"
      ],
      "metadata": {
        "id": "Owzr-ETcw7es"
      },
      "execution_count": null,
      "outputs": []
    },
    {
      "cell_type": "code",
      "source": [
        "#Set default value: Appended a new key and value to the dictionary\n"
      ],
      "metadata": {
        "id": "74jxFjynxH5G"
      },
      "execution_count": null,
      "outputs": []
    },
    {
      "cell_type": "code",
      "source": [
        "#update key value pairs\n"
      ],
      "metadata": {
        "id": "0ik8WBhkxbpi"
      },
      "execution_count": null,
      "outputs": []
    },
    {
      "cell_type": "code",
      "source": [
        "#Remove key value pairs\n"
      ],
      "metadata": {
        "id": "HtQsR6EHx3QM"
      },
      "execution_count": null,
      "outputs": []
    },
    {
      "cell_type": "code",
      "source": [
        "#Change key 'Admin' to 'Officers'\n"
      ],
      "metadata": {
        "id": "lA3BML3PypWp"
      },
      "execution_count": null,
      "outputs": []
    },
    {
      "cell_type": "markdown",
      "source": [
        "<b>Assignment 4</b>\n",
        "1. Create a dictionary representing a car with keys 'brand', 'model', and 'year'. Then, add a new key-value pair for 'color'. Finally, update the 'year' to a newer year and remove the 'model' key.\n",
        "\n",
        "2. You have a dictionary of product prices: {'apple': 0.50, 'banana': 0.25, 'orange': 0.60}. You want to increase the price of 'apple' by 10% and add a new product 'mango' with a price of 1.25."
      ],
      "metadata": {
        "id": "loBwdxTS0TWv"
      }
    }
  ]
}