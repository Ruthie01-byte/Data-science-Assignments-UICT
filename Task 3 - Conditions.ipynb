{
  "nbformat": 4,
  "nbformat_minor": 0,
  "metadata": {
    "colab": {
      "provenance": [],
      "include_colab_link": true
    },
    "kernelspec": {
      "name": "python3",
      "display_name": "Python 3"
    },
    "language_info": {
      "name": "python"
    }
  },
  "cells": [
    {
      "cell_type": "markdown",
      "metadata": {
        "id": "view-in-github",
        "colab_type": "text"
      },
      "source": [
        "<a href=\"https://colab.research.google.com/github/Ruthie01-byte/Data-science-Assignments-UICT/blob/main/Task%203%20-%20Conditions.ipynb\" target=\"_parent\"><img src=\"https://colab.research.google.com/assets/colab-badge.svg\" alt=\"Open In Colab\"/></a>"
      ]
    },
    {
      "cell_type": "markdown",
      "source": [
        "<h1><b>Conditions and Loops</b></h1></br>\n",
        "<h2><i>They are used to evaluate whether a statement is true or false. They are implemented using if, elif, and else statements, together with logical operators [and, or, not] and comparison operators [==, !=, >, <, etc]</h2></i>\n"
      ],
      "metadata": {
        "id": "L7HB7QZ87Cpl"
      }
    },
    {
      "cell_type": "code",
      "source": [
        "#IF Statements\n"
      ],
      "metadata": {
        "id": "wCw3Wtc8AO4D"
      },
      "execution_count": null,
      "outputs": []
    },
    {
      "cell_type": "markdown",
      "source": [
        "<b>To do</b></br>\n",
        "1. Calculate the tax of anything purchased for more than 1000shs is charged 5% tax otherwise 2%"
      ],
      "metadata": {
        "id": "5M0zVJJ1GoPs"
      }
    },
    {
      "cell_type": "markdown",
      "source": [
        "<b>Assignments 1</b>\n",
        "1. Write a program that asks the user for their age and then prints whether they are a minor (under 18), an adult (18-64), or a senior (65+).\n",
        "2. Create a program that takes a number as input and prints whether it's positive, negative, or zero."
      ],
      "metadata": {
        "id": "egSc5FDq3kDu"
      }
    },
    {
      "cell_type": "code",
      "source": [
        "#1 program that asks users for their age and then prints whether they are a minor of a senior\n",
        "age = int(input(\"enter your age:\"))\n",
        "if age < 18:\n",
        "  print(\"you are a minor\")\n",
        "elif age >= 18 and age <= 64:\n",
        "  print(\"you are an adult\")\n",
        "else:\n",
        "  print(\"you are a senior\")"
      ],
      "metadata": {
        "colab": {
          "base_uri": "https://localhost:8080/"
        },
        "id": "SxKDd662o_Be",
        "outputId": "c7a16b51-57b8-4ec4-91f3-e150922caebb"
      },
      "execution_count": 2,
      "outputs": [
        {
          "output_type": "stream",
          "name": "stdout",
          "text": [
            "enter your age: 32\n",
            "you are an adult\n"
          ]
        }
      ]
    },
    {
      "cell_type": "code",
      "source": [
        "#2 program that takes a number as input and prints whether it's positive, negative or zero\n",
        "number = int(input(\"enter a number: \"))\n",
        "if number > 0 :\n",
        "  print(\"the number is positive\")\n",
        "elif number < 0 :\n",
        "  print(\"the number is negative\")\n",
        "else:\n",
        "  print(\"the number is zero\")"
      ],
      "metadata": {
        "colab": {
          "base_uri": "https://localhost:8080/"
        },
        "id": "0wMpDY7VqXkx",
        "outputId": "ce57af2c-374e-45d5-cca4-3bb2e768624e"
      },
      "execution_count": 4,
      "outputs": [
        {
          "output_type": "stream",
          "name": "stdout",
          "text": [
            "enter a number: 25\n",
            "the number is positive\n"
          ]
        }
      ]
    },
    {
      "cell_type": "markdown",
      "source": [
        "<b>While loop</b></br>\n",
        "Allows you to repeatedly execute a block of statements as long as a condition is true. It is a looping statement."
      ],
      "metadata": {
        "id": "Kbz6hzY4IbNp"
      }
    },
    {
      "cell_type": "code",
      "source": [],
      "metadata": {
        "id": "dT7uecBYE033"
      },
      "execution_count": null,
      "outputs": []
    },
    {
      "cell_type": "markdown",
      "source": [
        "<b>Assignment 2</b>\n",
        "1. Write a program that asks the user to guess a number between 1 and 10. The program should keep asking for a number until the user guesses the correct number (e.g., 7).\n",
        "2. Create a program that prints the numbers from 10 down to 1."
      ],
      "metadata": {
        "id": "X1xdPr383-SH"
      }
    },
    {
      "cell_type": "code",
      "source": [
        "#1 program that asks the user to guess a number between 1 and 10 and outputs only the correct answer\n",
        "correct_answer = 7\n",
        "number_guessed = int(input(\"guess a number between 1 and 10:\"))\n",
        "print(\"correct answer\")"
      ],
      "metadata": {
        "colab": {
          "base_uri": "https://localhost:8080/"
        },
        "id": "fA4JPiw4pRPw",
        "outputId": "171b17f8-f8fb-4910-beed-bc12fbb2eb83"
      },
      "execution_count": 5,
      "outputs": [
        {
          "output_type": "stream",
          "name": "stdout",
          "text": [
            "guess a number between 1 and 10:8\n",
            "correct answer\n"
          ]
        }
      ]
    },
    {
      "cell_type": "code",
      "source": [
        "#while loop to keep user guessing until the guessed number equals the correct answer\n",
        "while correct_answer != number_guessed:\n",
        "  number_guessed = int(input(\"guess a number between 1 and 10:\"))\n",
        "  print(\"correct answer\")"
      ],
      "metadata": {
        "colab": {
          "base_uri": "https://localhost:8080/"
        },
        "id": "pOHXEUouv1CD",
        "outputId": "b364e85a-d600-41b2-cc55-98d60675ceae"
      },
      "execution_count": 6,
      "outputs": [
        {
          "output_type": "stream",
          "name": "stdout",
          "text": [
            "guess a number between 1 and 10:9\n",
            "correct answer\n",
            "guess a number between 1 and 10: 4\n",
            "correct answer\n",
            "guess a number between 1 and 10: 6\n",
            "correct answer\n",
            "guess a number between 1 and 10: 7\n",
            "correct answer\n"
          ]
        }
      ]
    },
    {
      "cell_type": "code",
      "source": [
        "#initial guess\n",
        "print(\"yes!! you guessed the correct number\")"
      ],
      "metadata": {
        "colab": {
          "base_uri": "https://localhost:8080/"
        },
        "id": "q61ecrzowy4e",
        "outputId": "e30dcff2-cb51-41be-9b77-c798a2c6cd21"
      },
      "execution_count": 8,
      "outputs": [
        {
          "output_type": "stream",
          "name": "stdout",
          "text": [
            "yes!! you guessed the correct number\n"
          ]
        }
      ]
    },
    {
      "cell_type": "markdown",
      "source": [
        "Assignment 1\n",
        "number 2"
      ],
      "metadata": {
        "id": "6HVKuBDKxAPB"
      }
    },
    {
      "cell_type": "code",
      "source": [
        "#2 program that prints the numbers from 10 down to 1\n",
        "for i in range(10, 0, -1):\n",
        "  print(i)"
      ],
      "metadata": {
        "colab": {
          "base_uri": "https://localhost:8080/"
        },
        "id": "K3-Ok1wdxFtG",
        "outputId": "7d05b489-1195-4f7b-c66f-d2fe5ea5a2e3"
      },
      "execution_count": 10,
      "outputs": [
        {
          "output_type": "stream",
          "name": "stdout",
          "text": [
            "10\n",
            "9\n",
            "8\n",
            "7\n",
            "6\n",
            "5\n",
            "4\n",
            "3\n",
            "2\n",
            "1\n"
          ]
        }
      ]
    },
    {
      "cell_type": "code",
      "source": [
        "#while loop to iterate as long as the number is greater than or equal to 1\n",
        "number = 10\n",
        "while number >= 1:\n",
        "  print(number)\n",
        "  number -= 1"
      ],
      "metadata": {
        "colab": {
          "base_uri": "https://localhost:8080/"
        },
        "id": "Yxu2eDndxnDr",
        "outputId": "144b32cb-ac59-4420-b8aa-c855be1c5605"
      },
      "execution_count": 12,
      "outputs": [
        {
          "output_type": "stream",
          "name": "stdout",
          "text": [
            "10\n",
            "9\n",
            "8\n",
            "7\n",
            "6\n",
            "5\n",
            "4\n",
            "3\n",
            "2\n",
            "1\n"
          ]
        }
      ]
    },
    {
      "cell_type": "code",
      "source": [
        "#print the current value\n",
        "print(number)"
      ],
      "metadata": {
        "colab": {
          "base_uri": "https://localhost:8080/"
        },
        "id": "L0BfTWXFyDvM",
        "outputId": "ffc97217-e5f1-4f0a-9bb2-26c3cf4b90ec"
      },
      "execution_count": 13,
      "outputs": [
        {
          "output_type": "stream",
          "name": "stdout",
          "text": [
            "0\n"
          ]
        }
      ]
    },
    {
      "cell_type": "code",
      "source": [
        "#reduce the number by 1\n",
        "number -= 1\n",
        "print(number)"
      ],
      "metadata": {
        "colab": {
          "base_uri": "https://localhost:8080/"
        },
        "id": "PoG4GN9OyKYM",
        "outputId": "2d735bdc-cbcf-497f-e010-87083235b325"
      },
      "execution_count": 14,
      "outputs": [
        {
          "output_type": "stream",
          "name": "stdout",
          "text": [
            "-1\n"
          ]
        }
      ]
    },
    {
      "cell_type": "markdown",
      "source": [
        "<b>For loop</b></br>\n",
        "It is also a loop statement which iterates over a sequence of objects, going through each item in a sequence.\n",
        "\n"
      ],
      "metadata": {
        "id": "cz8H4HpbQHYP"
      }
    },
    {
      "cell_type": "code",
      "source": [
        "#using for loop to iterate over a range 18 to 45, divides the values by 4 and prints the resultant value within the range. otherwise the loop is over.\n"
      ],
      "metadata": {
        "id": "NQJ44qCXNAkw"
      },
      "execution_count": 7,
      "outputs": []
    },
    {
      "cell_type": "markdown",
      "source": [
        "<b>Assignment 3 </b>\n",
        "1. Write a program that prints the square of each number from 1 to 10.\n",
        "2. Create a program that finds the sum of all the even numbers between 1 and 100."
      ],
      "metadata": {
        "id": "S-rlT7ia4NSp"
      }
    },
    {
      "cell_type": "code",
      "source": [
        "#1. program that prints the square of each number from 1 to 10\n",
        "for i in range(1, 11):\n",
        "  square = i * i\n",
        "  print(f\"the square of {i} is {square}\")"
      ],
      "metadata": {
        "colab": {
          "base_uri": "https://localhost:8080/"
        },
        "id": "pVRDAyr8yU2U",
        "outputId": "21baf93d-65de-496a-d198-f64f9dffacb3"
      },
      "execution_count": 16,
      "outputs": [
        {
          "output_type": "stream",
          "name": "stdout",
          "text": [
            "the square of 1 is 1\n",
            "the square of 2 is 4\n",
            "the square of 3 is 9\n",
            "the square of 4 is 16\n",
            "the square of 5 is 25\n",
            "the square of 6 is 36\n",
            "the square of 7 is 49\n",
            "the square of 8 is 64\n",
            "the square of 9 is 81\n",
            "the square of 10 is 100\n"
          ]
        }
      ]
    },
    {
      "cell_type": "code",
      "source": [
        "#2.program that finds the sum of all the even numbers between 1 and 100\n",
        "sum = 0\n",
        "for number in range(1, 101):\n",
        "  if number % 2 == 0:\n",
        "    sum += number\n",
        "print(sum)"
      ],
      "metadata": {
        "colab": {
          "base_uri": "https://localhost:8080/"
        },
        "id": "weI78PVuzDIb",
        "outputId": "da046c5c-9ed7-4bd4-f404-3f8634d4770e"
      },
      "execution_count": 19,
      "outputs": [
        {
          "output_type": "stream",
          "name": "stdout",
          "text": [
            "2550\n"
          ]
        }
      ]
    },
    {
      "cell_type": "code",
      "source": [
        "#iteration from 1 to 100 included\n",
        "if number % 2 == 0:\n",
        "  # The code to execute if the number is even would go here\n",
        "  pass # Placeholder for the code block\n",
        "  print(number)"
      ],
      "metadata": {
        "colab": {
          "base_uri": "https://localhost:8080/"
        },
        "id": "gcCAqB_lzvM2",
        "outputId": "736052d7-2226-4379-8ce1-384bc44c0e27"
      },
      "execution_count": 25,
      "outputs": [
        {
          "output_type": "stream",
          "name": "stdout",
          "text": [
            "100\n"
          ]
        }
      ]
    },
    {
      "cell_type": "code",
      "source": [
        "#checking if the number is even (divisible by 2)\n",
        "sum += number\n",
        "print(sum)"
      ],
      "metadata": {
        "colab": {
          "base_uri": "https://localhost:8080/"
        },
        "id": "v0wvPPXN0GBU",
        "outputId": "982b7c63-e118-4cef-f349-e71d2187d294"
      },
      "execution_count": 24,
      "outputs": [
        {
          "output_type": "stream",
          "name": "stdout",
          "text": [
            "2650\n"
          ]
        }
      ]
    },
    {
      "cell_type": "code",
      "source": [
        "#add the even number to get a cumulative sum\n",
        "print(f\"sum of all even numbers between 1 and 100 is: {sum}\")\n"
      ],
      "metadata": {
        "colab": {
          "base_uri": "https://localhost:8080/"
        },
        "id": "iPtMPVGJ0aqe",
        "outputId": "46f90bc1-53f6-4476-cbd3-5652e8af2fbf"
      },
      "execution_count": 26,
      "outputs": [
        {
          "output_type": "stream",
          "name": "stdout",
          "text": [
            "sum of all even numbers between 1 and 100 is: 2650\n"
          ]
        }
      ]
    }
  ]
}